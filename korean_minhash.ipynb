{
 "cells": [
  {
   "cell_type": "code",
   "execution_count": 1,
   "id": "3580fe36-ac3a-4ba9-9542-8b584e885758",
   "metadata": {},
   "outputs": [],
   "source": [
    "from datasketch import MinHash, MinHashLSH"
   ]
  },
  {
   "cell_type": "code",
   "execution_count": 20,
   "id": "9e31f809-6c75-4936-957e-d2e15ec321a1",
   "metadata": {},
   "outputs": [
    {
     "name": "stdout",
     "output_type": "stream",
     "text": [
      "Approximate neighbours with Jaccard similarity > 0.8 ['m3']\n"
     ]
    }
   ],
   "source": [
    "set1 = set(\"나는 머리를 빗고 있다\") \n",
    "set2 = set(\"나는 머리를 자르고 있다\")\n",
    "set3 = set(\"나는 머리를 빗고\")\n",
    "\n",
    "m1 = MinHash(num_perm=128)\n",
    "m2 = MinHash(num_perm=128)\n",
    "m3 = MinHash(num_perm=128)\n",
    "\n",
    "for d in set1:\n",
    "    m1.update(d.encode('utf8'))\n",
    "for d in set2:\n",
    "    m2.update(d.encode('utf8'))\n",
    "for d in set3:\n",
    "    m3.update(d.encode('utf8'))\n",
    "\n",
    "# Create LSH index\n",
    "lsh = MinHashLSH(threshold=0.8, num_perm=128)\n",
    "lsh.insert(\"m2\", m2)\n",
    "lsh.insert(\"m3\", m3)\n",
    "result = lsh.query(m1)\n",
    "print(\"Approximate neighbours with Jaccard similarity > 0.8\", result)"
   ]
  },
  {
   "cell_type": "markdown",
   "id": "3970c80d-34c4-46c4-acd5-ba97452c38b4",
   "metadata": {},
   "source": [
    "What essentially happens is that we are converting every sentence into a hash. Then from there we create an [MinHash LSH](http://infolab.stanford.edu/~ullman/mmds/ch3.pdf) index to insert those MinHash hashes into it.\n",
    "Lastly we query it with a threshold of 0.8 to see which one is the most similar. "
   ]
  },
  {
   "cell_type": "code",
   "execution_count": null,
   "id": "d74b235d-880f-487e-9940-f11d6c9ca2c0",
   "metadata": {},
   "outputs": [],
   "source": []
  }
 ],
 "metadata": {
  "kernelspec": {
   "display_name": "Python 3 (ipykernel)",
   "language": "python",
   "name": "python3"
  },
  "language_info": {
   "codemirror_mode": {
    "name": "ipython",
    "version": 3
   },
   "file_extension": ".py",
   "mimetype": "text/x-python",
   "name": "python",
   "nbconvert_exporter": "python",
   "pygments_lexer": "ipython3",
   "version": "3.9.7"
  }
 },
 "nbformat": 4,
 "nbformat_minor": 5
}
